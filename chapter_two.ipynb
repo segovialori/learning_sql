{
 "cells": [
  {
   "cell_type": "markdown",
   "metadata": {},
   "source": [
    "# Chapter Two"
   ]
  },
  {
   "cell_type": "markdown",
   "metadata": {},
   "source": [
    "## Creating and Populating a Database"
   ]
  },
  {
   "cell_type": "markdown",
   "metadata": {},
   "source": [
    "- Created a bank database using this code:  https://resources.oreilly.com/examples/9780596007270/blob/master/LearningSQLExample.sql\n",
    "- Book asks to use terminal, but I am using goorm ide."
   ]
  },
  {
   "cell_type": "markdown",
   "metadata": {},
   "source": [
    "## MySQL Data Types "
   ]
  },
  {
   "cell_type": "markdown",
   "metadata": {},
   "source": [
    "### Character Data\n",
    "- Can be stored as fixed length or variable length strings\n",
    "- When defining a character column, uyou must specify the maximum size or any string to be stored in that column\n",
    "- Ex).\n",
    "    - CHAR(20) is fixed length\n",
    "    - VARACHAR(20) is variable length\n",
    "- Anything over 255 characters use a text type"
   ]
  },
  {
   "cell_type": "markdown",
   "metadata": {},
   "source": [
    "#### Character sets\n",
    "- use SHOW CHARACTER SET; to view supported character sets"
   ]
  },
  {
   "cell_type": "markdown",
   "metadata": {},
   "source": [
    "#### Text data\n",
    "- Tinytext, Text, Mediumtext, Longtext\n",
    "- If the data being loaded into a text column exceeds the max size for that type the data will be truncated"
   ]
  },
  {
   "cell_type": "markdown",
   "metadata": {},
   "source": [
    "### Numeric Data\n",
    "- Tinyint, Smallint, Mediumint, Int, Bigint\n",
    "- Use Floatfor floating point numbers and specify a precision"
   ]
  },
  {
   "cell_type": "markdown",
   "metadata": {},
   "source": [
    "### Temporal Data\n",
    "- Information about dates and times\n",
    "- Ex)\n",
    "    - columns to hold expected future shipping, information about when a customer order was actually shipped, column holding just year data, etc"
   ]
  },
  {
   "cell_type": "markdown",
   "metadata": {},
   "source": [
    "## Table Creation"
   ]
  },
  {
   "cell_type": "markdown",
   "metadata": {},
   "source": [
    "### Step 1:  Design\n",
    "- "
   ]
  },
  {
   "cell_type": "markdown",
   "metadata": {},
   "source": []
  },
  {
   "cell_type": "markdown",
   "metadata": {},
   "source": []
  },
  {
   "cell_type": "markdown",
   "metadata": {},
   "source": []
  }
 ],
 "metadata": {
  "kernelspec": {
   "display_name": "Python 3",
   "language": "python",
   "name": "python3"
  },
  "language_info": {
   "codemirror_mode": {
    "name": "ipython",
    "version": 3
   },
   "file_extension": ".py",
   "mimetype": "text/x-python",
   "name": "python",
   "nbconvert_exporter": "python",
   "pygments_lexer": "ipython3",
   "version": "3.8.5"
  }
 },
 "nbformat": 4,
 "nbformat_minor": 4
}
