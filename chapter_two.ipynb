{
 "cells": [
  {
   "cell_type": "markdown",
   "metadata": {},
   "source": [
    "# Chapter Two"
   ]
  },
  {
   "cell_type": "markdown",
   "metadata": {},
   "source": [
    "## Creating and Populating a Database"
   ]
  },
  {
   "cell_type": "markdown",
   "metadata": {},
   "source": [
    "- Created a bank database using this code:  https://resources.oreilly.com/examples/9780596007270/blob/master/LearningSQLExample.sql\n",
    "- Book asks to use terminal, but I am using goorm ide."
   ]
  },
  {
   "cell_type": "markdown",
   "metadata": {},
   "source": [
    "## MySQL Data Types "
   ]
  },
  {
   "cell_type": "markdown",
   "metadata": {},
   "source": [
    "### Character Data\n",
    "- Can be stored as fixed length or variable length strings\n",
    "- When defining a character column, uyou must specify the maximum size or any string to be stored in that column\n",
    "- Ex).\n",
    "    - CHAR(20) is fixed length\n",
    "    - VARACHAR(20) is variable length\n",
    "- Anything over 255 characters use a text type"
   ]
  },
  {
   "cell_type": "markdown",
   "metadata": {},
   "source": [
    "#### Character sets\n",
    "- use SHOW CHARACTER SET; to view supported character sets"
   ]
  },
  {
   "cell_type": "markdown",
   "metadata": {},
   "source": [
    "#### Text data\n",
    "- Tinytext, Text, Mediumtext, Longtext\n",
    "- If the data being loaded into a text column exceeds the max size for that type the data will be truncated"
   ]
  },
  {
   "cell_type": "markdown",
   "metadata": {},
   "source": [
    "### Numeric Data\n",
    "- Tinyint, Smallint, Mediumint, Int, Bigint\n",
    "- Use Floatfor floating point numbers and specify a precision"
   ]
  },
  {
   "cell_type": "markdown",
   "metadata": {},
   "source": [
    "### Temporal Data\n",
    "- Information about dates and times\n",
    "- Ex)\n",
    "    - columns to hold expected future shipping, information about when a customer order was actually shipped, column holding just year data, etc"
   ]
  },
  {
   "cell_type": "markdown",
   "metadata": {},
   "source": [
    "## Table Creation"
   ]
  },
  {
   "cell_type": "markdown",
   "metadata": {},
   "source": [
    "### Step 1:  Design\n",
    "- Brainstorm what kind of info would be helpful to include\n",
    "### Step 2:  Refinement\n",
    "- normalize and establish primary key to guarantee uniqueness\n",
    "### Step 3:  Building SQL Schema Statements\n",
    "- generate sql statements to create the tables in the database"
   ]
  },
  {
   "cell_type": "markdown",
   "metadata": {},
   "source": [
    "## Populating and Modifying Tables\n",
    "### Inserting Data\n",
    "- 3 main components to an insert statement\n",
    "    - the name of the table into which to add the data\n",
    "    - the names of the columns in the table to be populated\n",
    "    - the values with which to populate the columns\n",
    "#### Generating numeric key data\n",
    "- AUTO_INCREMENT will automatically generate primary key values\n",
    "#### The insert statement\n",
    "- the following statement creates a row in the person table for will turner\n",
    "INSERT INTO person\n",
    "(person_id, fname, lname, gender, birth_date)\n",
    "VALUES(null, 'will', 'turner', 'm', '1972-05-27');\n",
    "- column names and the values provided must correspond in number and type\n",
    "### Updating Data\n",
    "- use UPDATE to modify columns in a single statement\n",
    "UPDATE person\n",
    "SET address = '1225 temont st',\n",
    "city = 'boston'\n",
    "state = 'ma'\n",
    "country = 'usa'\n",
    "postal_code = '02138'\n",
    "WHERE person_id = 1;\n",
    "### Deleting Data\n",
    "- use DELETE FROM to delete a row or rows\n",
    "DELETE FROM person\n",
    "WHERE person_id = 2;\n",
    "## When Good Statements Go Bad\n",
    "### Nonunique Primary Key\n",
    "- mysql will make sure that duplicate values are not inserted into tables\n"
   ]
  }
 ],
 "metadata": {
  "kernelspec": {
   "display_name": "Python 3",
   "language": "python",
   "name": "python3"
  },
  "language_info": {
   "codemirror_mode": {
    "name": "ipython",
    "version": 3
   },
   "file_extension": ".py",
   "mimetype": "text/x-python",
   "name": "python",
   "nbconvert_exporter": "python",
   "pygments_lexer": "ipython3",
   "version": "3.8.5"
  }
 },
 "nbformat": 4,
 "nbformat_minor": 4
}
