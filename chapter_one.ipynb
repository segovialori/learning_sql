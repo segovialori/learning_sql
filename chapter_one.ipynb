{
 "cells": [
  {
   "cell_type": "markdown",
   "metadata": {},
   "source": [
    "# Chapter One"
   ]
  },
  {
   "cell_type": "markdown",
   "metadata": {},
   "source": [
    "## A Little Background"
   ]
  },
  {
   "cell_type": "markdown",
   "metadata": {},
   "source": [
    "### Introduction to Databases\n",
    "- A database is a set of related information\n",
    "    - Ex).  A telephone book is a database of names, numbers, and addresssed of all people in a particular region\n"
   ]
  },
  {
   "cell_type": "markdown",
   "metadata": {},
   "source": [
    "#### Nonrelational Database Systems"
   ]
  },
  {
   "cell_type": "markdown",
   "metadata": {},
   "source": [
    "- Hierarchical database system\n",
    "- Network database system\n",
    "- Multiparent hierarchy"
   ]
  },
  {
   "cell_type": "markdown",
   "metadata": {},
   "source": [
    "#### The Relational Model\n",
    "- Each table in a relational database included information that uniquely identifies a row in that table (know as the primary key)\n",
    "- Primary key consisting of two or more columns is know as a coumpound key\n",
    "- Foreign key is a field (or collection of fields) in one table, that refers to the PRIMARY KEY in another table\n",
    "- Normalization is the process of refining a database design to ensure that each independent piece of inofrmation is in only one place (except for foreign keys)"
   ]
  },
  {
   "cell_type": "markdown",
   "metadata": {},
   "source": [
    "### What Is SQL?"
   ]
  },
  {
   "cell_type": "markdown",
   "metadata": {},
   "source": [
    "#### SQL Statement Classes\n",
    "- Schema statements: are used to deine data structures stored in the database\n",
    "- Data statements:  are used to manipulate the data structure previously deined using SQL schema statements\n",
    "- Transaction statements:  are used to begin, end, and rollback transactions"
   ]
  },
  {
   "cell_type": "markdown",
   "metadata": {},
   "source": []
  },
  {
   "cell_type": "markdown",
   "metadata": {},
   "source": []
  },
  {
   "cell_type": "markdown",
   "metadata": {},
   "source": []
  },
  {
   "cell_type": "markdown",
   "metadata": {},
   "source": []
  },
  {
   "cell_type": "markdown",
   "metadata": {},
   "source": []
  },
  {
   "cell_type": "code",
   "execution_count": null,
   "metadata": {},
   "outputs": [],
   "source": []
  }
 ],
 "metadata": {
  "kernelspec": {
   "display_name": "Python 3",
   "language": "python",
   "name": "python3"
  },
  "language_info": {
   "codemirror_mode": {
    "name": "ipython",
    "version": 3
   },
   "file_extension": ".py",
   "mimetype": "text/x-python",
   "name": "python",
   "nbconvert_exporter": "python",
   "pygments_lexer": "ipython3",
   "version": "3.8.5"
  }
 },
 "nbformat": 4,
 "nbformat_minor": 4
}
