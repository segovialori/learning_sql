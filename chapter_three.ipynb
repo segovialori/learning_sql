{
 "cells": [
  {
   "cell_type": "markdown",
   "metadata": {},
   "source": [
    "# Chapter Three\n",
    "## Query Primer\n",
    "### Query Mechanics\n",
    "- executed query is called the \"result set\"\n",
    "### Query Clauses\n",
    "- select:  determines which columns to include in the queries result set\n",
    "- from:  identifies the tables from which to draw data and how the tables should be joined\n",
    "- where:  restricts the number of rows in the final result set\n",
    "- group by:  used to gropu rows together by common column values\n",
    "- having:  restricts the number o frows in the final result set using grouped data\n",
    "- order by:  sorts the rows of the final result set by one or more columns\n",
    "### The SELECT Clause\n",
    "- you can specify all columns with * or select specific columns\n",
    "#### Column Aliases\n",
    "- use an aliases to assign a new column label in the result set\n",
    "#### Removing Duplicates"
   ]
  },
  {
   "cell_type": "markdown",
   "metadata": {},
   "source": []
  },
  {
   "cell_type": "markdown",
   "metadata": {},
   "source": []
  },
  {
   "cell_type": "markdown",
   "metadata": {},
   "source": []
  },
  {
   "cell_type": "markdown",
   "metadata": {},
   "source": []
  },
  {
   "cell_type": "markdown",
   "metadata": {},
   "source": []
  },
  {
   "cell_type": "markdown",
   "metadata": {},
   "source": []
  },
  {
   "cell_type": "markdown",
   "metadata": {},
   "source": []
  },
  {
   "cell_type": "markdown",
   "metadata": {},
   "source": []
  },
  {
   "cell_type": "markdown",
   "metadata": {},
   "source": []
  },
  {
   "cell_type": "markdown",
   "metadata": {},
   "source": []
  },
  {
   "cell_type": "markdown",
   "metadata": {},
   "source": []
  },
  {
   "cell_type": "markdown",
   "metadata": {},
   "source": []
  },
  {
   "cell_type": "markdown",
   "metadata": {},
   "source": []
  }
 ],
 "metadata": {
  "kernelspec": {
   "display_name": "Python 3",
   "language": "python",
   "name": "python3"
  },
  "language_info": {
   "codemirror_mode": {
    "name": "ipython",
    "version": 3
   },
   "file_extension": ".py",
   "mimetype": "text/x-python",
   "name": "python",
   "nbconvert_exporter": "python",
   "pygments_lexer": "ipython3",
   "version": "3.8.5"
  }
 },
 "nbformat": 4,
 "nbformat_minor": 4
}
