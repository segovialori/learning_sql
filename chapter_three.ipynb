{
 "cells": [
  {
   "cell_type": "markdown",
   "metadata": {},
   "source": [
    "# Chapter Three\n",
    "## Query Primer\n",
    "### Query Mechanics\n",
    "- executed query is called the \"result set\"\n",
    "### Query Clauses\n",
    "- select:  determines which columns to include in the queries result set\n",
    "- from:  identifies the tables from which to draw data and how the tables should be joined\n",
    "- where:  restricts the number of rows in the final result set\n",
    "- group by:  used to gropu rows together by common column values\n",
    "- having:  restricts the number o frows in the final result set using grouped data\n",
    "- order by:  sorts the rows of the final result set by one or more columns\n",
    "### The SELECT Clause\n",
    "- you can specify all columns with * or select specific columns\n",
    "#### Column Aliases\n",
    "- use an aliases to assign a new column label in the result set\n",
    "#### Removing Duplicates\n",
    "- To eliminate duplicate data use DISTINCT\n",
    "### The FROM Clause\n",
    "- the from clause defines the tables used by a query, alond with the means of linking tables together\n",
    "#### Tables\n",
    "- three types of tables:  permanent, temporary, and virtual tables\n",
    "##### Subquery-generated tables\n",
    "- a subquery serves the role of generating a temporary table that is visible from all other query clauses and can interact with other tables named in the from clause\n",
    "##### Views\n",
    "- a view is a query that is stored in the data dictionary\n",
    "- it looks and acts like a table, but there is no data associated with a view (virtual table)"
   ]
  },
  {
   "cell_type": "markdown",
   "metadata": {},
   "source": []
  },
  {
   "cell_type": "markdown",
   "metadata": {},
   "source": []
  },
  {
   "cell_type": "markdown",
   "metadata": {},
   "source": []
  },
  {
   "cell_type": "markdown",
   "metadata": {},
   "source": []
  },
  {
   "cell_type": "markdown",
   "metadata": {},
   "source": []
  },
  {
   "cell_type": "markdown",
   "metadata": {},
   "source": []
  },
  {
   "cell_type": "markdown",
   "metadata": {},
   "source": []
  },
  {
   "cell_type": "markdown",
   "metadata": {},
   "source": []
  },
  {
   "cell_type": "markdown",
   "metadata": {},
   "source": []
  },
  {
   "cell_type": "markdown",
   "metadata": {},
   "source": []
  },
  {
   "cell_type": "markdown",
   "metadata": {},
   "source": []
  },
  {
   "cell_type": "markdown",
   "metadata": {},
   "source": []
  },
  {
   "cell_type": "markdown",
   "metadata": {},
   "source": []
  }
 ],
 "metadata": {
  "kernelspec": {
   "display_name": "Python 3",
   "language": "python",
   "name": "python3"
  },
  "language_info": {
   "codemirror_mode": {
    "name": "ipython",
    "version": 3
   },
   "file_extension": ".py",
   "mimetype": "text/x-python",
   "name": "python",
   "nbconvert_exporter": "python",
   "pygments_lexer": "ipython3",
   "version": "3.8.5"
  }
 },
 "nbformat": 4,
 "nbformat_minor": 4
}
