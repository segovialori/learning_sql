{
 "cells": [
  {
   "cell_type": "markdown",
   "metadata": {},
   "source": [
    "# Chapter Three\n",
    "## Query Primer\n",
    "### Query Mechanics\n",
    "- executed query is called the \"result set\"\n"
   ]
  },
  {
   "cell_type": "markdown",
   "metadata": {},
   "source": [
    "### Query Clauses\n",
    "- select:  determines which columns to include in the queries result set\n",
    "- from:  identifies the tables from which to draw data and how the tables should be joined\n",
    "- where:  restricts the number of rows in the final result set\n",
    "- group by:  used to gropu rows together by common column values\n",
    "- having:  restricts the number o frows in the final result set using grouped data\n",
    "- order by:  sorts the rows of the final result set by one or more columns\n"
   ]
  },
  {
   "cell_type": "markdown",
   "metadata": {},
   "source": [
    "### The SELECT Clause\n",
    "- you can specify all columns with * or select specific columns\n",
    "#### Column Aliases\n",
    "- use an aliases to assign a new column label in the result set\n",
    "#### Removing Duplicates\n",
    "- To eliminate duplicate data use DISTINCT\n"
   ]
  },
  {
   "cell_type": "markdown",
   "metadata": {},
   "source": [
    "### The FROM Clause\n",
    "- the from clause defines the tables used by a query, alond with the means of linking tables together\n",
    "#### Tables\n",
    "- three types of tables:  permanent, temporary, and virtual tables\n",
    "##### Subquery-generated tables\n",
    "- a subquery serves the role of generating a temporary table that is visible from all other query clauses and can interact with other tables named in the from clause\n",
    "##### Views\n",
    "- a view is a query that is stored in the data dictionary\n",
    "- it looks and acts like a table, but there is no data associated with a view (virtual table)"
   ]
  },
  {
   "cell_type": "markdown",
   "metadata": {},
   "source": [
    "#### Table Links \n",
    "- joins\n",
    "#### Defining Table Aliases\n",
    "- assign each table an alias and use the alias throughout the query\n"
   ]
  },
  {
   "cell_type": "markdown",
   "metadata": {},
   "source": [
    "### The WHERE Clause\n",
    "- when you want to dilter out those rows that are not of interest\n",
    "- WHERE clauses can containe a single filter condition, but can include as many condition as required\n",
    "- individual conditions are separated using operators such as an, or, and not\n",
    "- use parenethesis to gropu conditions together"
   ]
  },
  {
   "cell_type": "markdown",
   "metadata": {},
   "source": [
    "### The GROUP BY and HAVING Clauses\n",
    "- group by clause is used to grop data by column values\n",
    "### The ORDER BY Clause\n",
    "- the order by clause is the mechanism for sorting your result set using either raw column data or ecpressions based on the column data\n",
    "- default order is ascending"
   ]
  },
  {
   "cell_type": "markdown",
   "metadata": {},
   "source": [
    "### Exercises\n",
    "1.  Retrieve the employee id, first name, and last name for all bank employees.  Sort by last name, then first name.\n",
    "\n",
    "SELECT emp_id AS employee_id, fname AS first_name, lname AS last_name\n",
    "FROM employee\n",
    "ORDER BY last_name, first_name;\n",
    "\n",
    "2.  Retrieve the account id, customer id, and available balance for all accounts whose status equals 'ACTIVE' and whose available balance is greater than \\$2500.\n",
    "\n",
    "SELECT account_id, cust_id AS customer_id, avail_balance AS balance\n",
    "FROM account\n",
    "WHERE status = 'ACTIVE'\n",
    "AND avail_balance > 2500;\n",
    "\n",
    "3. Write a query against the account table that returns the IDs of the employees who opened the accounts (use the account.open_emp_id column). \n",
    "Include a single row for each distinct employee.\n",
    "\n",
    "SELECT DISTINCT open_emp_id AS employee_id\n",
    "FROM account;\n",
    "\n",
    "\n",
    "4. Fill in the blanks to match the table:\n",
    "\n",
    "SELECT p.product_cd, a.cust_id, a.avail_balance\n",
    "FROM product p INNER JOIN account a\n",
    "on p.product_cd = a.product_cd\n",
    "WHERE p.product_type_cd = 'ACCOUNT'\n",
    "ORDER BY product_cd;"
   ]
  },
  {
   "cell_type": "markdown",
   "metadata": {},
   "source": []
  },
  {
   "cell_type": "markdown",
   "metadata": {},
   "source": []
  },
  {
   "cell_type": "markdown",
   "metadata": {},
   "source": []
  },
  {
   "cell_type": "markdown",
   "metadata": {},
   "source": []
  },
  {
   "cell_type": "markdown",
   "metadata": {},
   "source": []
  },
  {
   "cell_type": "markdown",
   "metadata": {},
   "source": []
  }
 ],
 "metadata": {
  "kernelspec": {
   "display_name": "Python 3",
   "language": "python",
   "name": "python3"
  },
  "language_info": {
   "codemirror_mode": {
    "name": "ipython",
    "version": 3
   },
   "file_extension": ".py",
   "mimetype": "text/x-python",
   "name": "python",
   "nbconvert_exporter": "python",
   "pygments_lexer": "ipython3",
   "version": "3.8.5"
  }
 },
 "nbformat": 4,
 "nbformat_minor": 4
}
